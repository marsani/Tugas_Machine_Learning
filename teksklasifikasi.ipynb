{
  "nbformat": 4,
  "nbformat_minor": 0,
  "metadata": {
    "colab": {
      "name": "teksklasifikasi.ipynb",
      "provenance": [],
      "collapsed_sections": [],
      "authorship_tag": "ABX9TyOI9cjk869VE92RcV4PzRzQ",
      "include_colab_link": true
    },
    "kernelspec": {
      "name": "python3",
      "display_name": "Python 3"
    }
  },
  "cells": [
    {
      "cell_type": "markdown",
      "metadata": {
        "id": "view-in-github",
        "colab_type": "text"
      },
      "source": [
        "<a href=\"https://colab.research.google.com/github/marsani/Tugas_Machine_Learning/blob/main/teksklasifikasi.ipynb\" target=\"_parent\"><img src=\"https://colab.research.google.com/assets/colab-badge.svg\" alt=\"Open In Colab\"/></a>"
      ]
    },
    {
      "cell_type": "code",
      "metadata": {
        "colab": {
          "base_uri": "https://localhost:8080/",
          "height": 373
        },
        "id": "csAbOXrjQdOB",
        "outputId": "3e9064af-4da0-477e-f58b-ac2fbf530d88"
      },
      "source": [
        "import pandas as pd\n",
        "columns = ['Kalimat', 'Kelas']\n",
        "rows = []\n",
        "'''\n",
        "rows = [['I really really love that movie Its such a great story', 'positif'], \n",
        "        ['Its awesome a touching story Too bad the hero died at the end', 'positif'],\n",
        "        ['I love it', 'positif'],\n",
        "        ['I like how the actors portrayed the characters Its a good movie', 'positif'],\n",
        "        ['Its really good You will love it', 'positif'],\n",
        "        ['Overall its a good movie and I like it', 'positif'],\n",
        "        ['Its so bad I sleep off half way watching it','negatif'],\n",
        "        ['The story is boring I do not like it','negatif'],\n",
        "        ['Its really bad I hate it','negatif'],\n",
        "        ['What a boring movie','negatif'],\n",
        "        ['Its a bad movie The actors are worse Really bad','negatif']]\n",
        "'''\n",
        "\n",
        "rows=[['love great','positif'],\n",
        "     ['awesome touching bad','positif'],\n",
        "     ['love','positif'],\n",
        "     ['like good','positif'],\n",
        "     ['good love','positif'],\n",
        "     ['good like','positif'],\n",
        "     ['bad sleep','negatif'],\n",
        "     ['boring like','negatif'],\n",
        "     ['bad hate','negatif'],\n",
        "     ['boring','negatif'],\n",
        "     ['bad worse bad','negatif']]\n",
        "training_data = pd.DataFrame(rows, columns=columns)\n",
        "training_data"
      ],
      "execution_count": null,
      "outputs": [
        {
          "output_type": "execute_result",
          "data": {
            "text/html": [
              "<div>\n",
              "<style scoped>\n",
              "    .dataframe tbody tr th:only-of-type {\n",
              "        vertical-align: middle;\n",
              "    }\n",
              "\n",
              "    .dataframe tbody tr th {\n",
              "        vertical-align: top;\n",
              "    }\n",
              "\n",
              "    .dataframe thead th {\n",
              "        text-align: right;\n",
              "    }\n",
              "</style>\n",
              "<table border=\"1\" class=\"dataframe\">\n",
              "  <thead>\n",
              "    <tr style=\"text-align: right;\">\n",
              "      <th></th>\n",
              "      <th>Kalimat</th>\n",
              "      <th>Kelas</th>\n",
              "    </tr>\n",
              "  </thead>\n",
              "  <tbody>\n",
              "    <tr>\n",
              "      <th>0</th>\n",
              "      <td>love great</td>\n",
              "      <td>positif</td>\n",
              "    </tr>\n",
              "    <tr>\n",
              "      <th>1</th>\n",
              "      <td>awesome touching bad</td>\n",
              "      <td>positif</td>\n",
              "    </tr>\n",
              "    <tr>\n",
              "      <th>2</th>\n",
              "      <td>love</td>\n",
              "      <td>positif</td>\n",
              "    </tr>\n",
              "    <tr>\n",
              "      <th>3</th>\n",
              "      <td>like good</td>\n",
              "      <td>positif</td>\n",
              "    </tr>\n",
              "    <tr>\n",
              "      <th>4</th>\n",
              "      <td>good love</td>\n",
              "      <td>positif</td>\n",
              "    </tr>\n",
              "    <tr>\n",
              "      <th>5</th>\n",
              "      <td>good like</td>\n",
              "      <td>positif</td>\n",
              "    </tr>\n",
              "    <tr>\n",
              "      <th>6</th>\n",
              "      <td>bad sleep</td>\n",
              "      <td>negatif</td>\n",
              "    </tr>\n",
              "    <tr>\n",
              "      <th>7</th>\n",
              "      <td>boring like</td>\n",
              "      <td>negatif</td>\n",
              "    </tr>\n",
              "    <tr>\n",
              "      <th>8</th>\n",
              "      <td>bad hate</td>\n",
              "      <td>negatif</td>\n",
              "    </tr>\n",
              "    <tr>\n",
              "      <th>9</th>\n",
              "      <td>boring</td>\n",
              "      <td>negatif</td>\n",
              "    </tr>\n",
              "    <tr>\n",
              "      <th>10</th>\n",
              "      <td>bad worse bad</td>\n",
              "      <td>negatif</td>\n",
              "    </tr>\n",
              "  </tbody>\n",
              "</table>\n",
              "</div>"
            ],
            "text/plain": [
              "                 Kalimat    Kelas\n",
              "0             love great  positif\n",
              "1   awesome touching bad  positif\n",
              "2                   love  positif\n",
              "3              like good  positif\n",
              "4              good love  positif\n",
              "5              good like  positif\n",
              "6              bad sleep  negatif\n",
              "7            boring like  negatif\n",
              "8               bad hate  negatif\n",
              "9                 boring  negatif\n",
              "10         bad worse bad  negatif"
            ]
          },
          "metadata": {
            "tags": []
          },
          "execution_count": 20
        }
      ]
    },
    {
      "cell_type": "code",
      "metadata": {
        "colab": {
          "base_uri": "https://localhost:8080/"
        },
        "id": "0SfpprptSdkQ",
        "outputId": "6c5e58bf-365f-42af-e3c3-2280fb3f7434"
      },
      "source": [
        "from sklearn.feature_extraction.text import CountVectorizer\n",
        "stmt_docs = [row['Kalimat'] for index,row in training_data.iterrows() if row['Kelas'] == 'positif']\n",
        "stmt_docs"
      ],
      "execution_count": null,
      "outputs": [
        {
          "output_type": "execute_result",
          "data": {
            "text/plain": [
              "['love great',\n",
              " 'awesome touching bad',\n",
              " 'love',\n",
              " 'like good',\n",
              " 'good love',\n",
              " 'good like']"
            ]
          },
          "metadata": {
            "tags": []
          },
          "execution_count": 21
        }
      ]
    },
    {
      "cell_type": "code",
      "metadata": {
        "colab": {
          "base_uri": "https://localhost:8080/",
          "height": 225
        },
        "id": "CCq8t5uZSsm_",
        "outputId": "04c73f32-57b6-4abd-da2e-a13c5edc7b16"
      },
      "source": [
        "vec_s = CountVectorizer()\n",
        "X_s = vec_s.fit_transform(stmt_docs)\n",
        "tdm_s = pd.DataFrame(X_s.toarray(), columns=vec_s.get_feature_names())\n",
        "\n",
        "tdm_s"
      ],
      "execution_count": null,
      "outputs": [
        {
          "output_type": "execute_result",
          "data": {
            "text/html": [
              "<div>\n",
              "<style scoped>\n",
              "    .dataframe tbody tr th:only-of-type {\n",
              "        vertical-align: middle;\n",
              "    }\n",
              "\n",
              "    .dataframe tbody tr th {\n",
              "        vertical-align: top;\n",
              "    }\n",
              "\n",
              "    .dataframe thead th {\n",
              "        text-align: right;\n",
              "    }\n",
              "</style>\n",
              "<table border=\"1\" class=\"dataframe\">\n",
              "  <thead>\n",
              "    <tr style=\"text-align: right;\">\n",
              "      <th></th>\n",
              "      <th>awesome</th>\n",
              "      <th>bad</th>\n",
              "      <th>good</th>\n",
              "      <th>great</th>\n",
              "      <th>like</th>\n",
              "      <th>love</th>\n",
              "      <th>touching</th>\n",
              "    </tr>\n",
              "  </thead>\n",
              "  <tbody>\n",
              "    <tr>\n",
              "      <th>0</th>\n",
              "      <td>0</td>\n",
              "      <td>0</td>\n",
              "      <td>0</td>\n",
              "      <td>1</td>\n",
              "      <td>0</td>\n",
              "      <td>1</td>\n",
              "      <td>0</td>\n",
              "    </tr>\n",
              "    <tr>\n",
              "      <th>1</th>\n",
              "      <td>1</td>\n",
              "      <td>1</td>\n",
              "      <td>0</td>\n",
              "      <td>0</td>\n",
              "      <td>0</td>\n",
              "      <td>0</td>\n",
              "      <td>1</td>\n",
              "    </tr>\n",
              "    <tr>\n",
              "      <th>2</th>\n",
              "      <td>0</td>\n",
              "      <td>0</td>\n",
              "      <td>0</td>\n",
              "      <td>0</td>\n",
              "      <td>0</td>\n",
              "      <td>1</td>\n",
              "      <td>0</td>\n",
              "    </tr>\n",
              "    <tr>\n",
              "      <th>3</th>\n",
              "      <td>0</td>\n",
              "      <td>0</td>\n",
              "      <td>1</td>\n",
              "      <td>0</td>\n",
              "      <td>1</td>\n",
              "      <td>0</td>\n",
              "      <td>0</td>\n",
              "    </tr>\n",
              "    <tr>\n",
              "      <th>4</th>\n",
              "      <td>0</td>\n",
              "      <td>0</td>\n",
              "      <td>1</td>\n",
              "      <td>0</td>\n",
              "      <td>0</td>\n",
              "      <td>1</td>\n",
              "      <td>0</td>\n",
              "    </tr>\n",
              "    <tr>\n",
              "      <th>5</th>\n",
              "      <td>0</td>\n",
              "      <td>0</td>\n",
              "      <td>1</td>\n",
              "      <td>0</td>\n",
              "      <td>1</td>\n",
              "      <td>0</td>\n",
              "      <td>0</td>\n",
              "    </tr>\n",
              "  </tbody>\n",
              "</table>\n",
              "</div>"
            ],
            "text/plain": [
              "   awesome  bad  good  great  like  love  touching\n",
              "0        0    0     0      1     0     1         0\n",
              "1        1    1     0      0     0     0         1\n",
              "2        0    0     0      0     0     1         0\n",
              "3        0    0     1      0     1     0         0\n",
              "4        0    0     1      0     0     1         0\n",
              "5        0    0     1      0     1     0         0"
            ]
          },
          "metadata": {
            "tags": []
          },
          "execution_count": 24
        }
      ]
    },
    {
      "cell_type": "code",
      "metadata": {
        "colab": {
          "base_uri": "https://localhost:8080/",
          "height": 195
        },
        "id": "pkhlVX-qSwXa",
        "outputId": "e8f78f95-c6d7-4400-a553-3826a276196e"
      },
      "source": [
        "q_docs = [row['Kalimat'] for index,row in training_data.iterrows() if row['Kelas'] == 'negatif']\n",
        "vec_q = CountVectorizer()\n",
        "X_q = vec_q.fit_transform(q_docs)\n",
        "tdm_q = pd.DataFrame(X_q.toarray(), columns=vec_q.get_feature_names())\n",
        "\n",
        "tdm_q"
      ],
      "execution_count": null,
      "outputs": [
        {
          "output_type": "execute_result",
          "data": {
            "text/html": [
              "<div>\n",
              "<style scoped>\n",
              "    .dataframe tbody tr th:only-of-type {\n",
              "        vertical-align: middle;\n",
              "    }\n",
              "\n",
              "    .dataframe tbody tr th {\n",
              "        vertical-align: top;\n",
              "    }\n",
              "\n",
              "    .dataframe thead th {\n",
              "        text-align: right;\n",
              "    }\n",
              "</style>\n",
              "<table border=\"1\" class=\"dataframe\">\n",
              "  <thead>\n",
              "    <tr style=\"text-align: right;\">\n",
              "      <th></th>\n",
              "      <th>bad</th>\n",
              "      <th>boring</th>\n",
              "      <th>hate</th>\n",
              "      <th>like</th>\n",
              "      <th>sleep</th>\n",
              "      <th>worse</th>\n",
              "    </tr>\n",
              "  </thead>\n",
              "  <tbody>\n",
              "    <tr>\n",
              "      <th>0</th>\n",
              "      <td>1</td>\n",
              "      <td>0</td>\n",
              "      <td>0</td>\n",
              "      <td>0</td>\n",
              "      <td>1</td>\n",
              "      <td>0</td>\n",
              "    </tr>\n",
              "    <tr>\n",
              "      <th>1</th>\n",
              "      <td>0</td>\n",
              "      <td>1</td>\n",
              "      <td>0</td>\n",
              "      <td>1</td>\n",
              "      <td>0</td>\n",
              "      <td>0</td>\n",
              "    </tr>\n",
              "    <tr>\n",
              "      <th>2</th>\n",
              "      <td>1</td>\n",
              "      <td>0</td>\n",
              "      <td>1</td>\n",
              "      <td>0</td>\n",
              "      <td>0</td>\n",
              "      <td>0</td>\n",
              "    </tr>\n",
              "    <tr>\n",
              "      <th>3</th>\n",
              "      <td>0</td>\n",
              "      <td>1</td>\n",
              "      <td>0</td>\n",
              "      <td>0</td>\n",
              "      <td>0</td>\n",
              "      <td>0</td>\n",
              "    </tr>\n",
              "    <tr>\n",
              "      <th>4</th>\n",
              "      <td>2</td>\n",
              "      <td>0</td>\n",
              "      <td>0</td>\n",
              "      <td>0</td>\n",
              "      <td>0</td>\n",
              "      <td>1</td>\n",
              "    </tr>\n",
              "  </tbody>\n",
              "</table>\n",
              "</div>"
            ],
            "text/plain": [
              "   bad  boring  hate  like  sleep  worse\n",
              "0    1       0     0     0      1      0\n",
              "1    0       1     0     1      0      0\n",
              "2    1       0     1     0      0      0\n",
              "3    0       1     0     0      0      0\n",
              "4    2       0     0     0      0      1"
            ]
          },
          "metadata": {
            "tags": []
          },
          "execution_count": 23
        }
      ]
    },
    {
      "cell_type": "code",
      "metadata": {
        "colab": {
          "base_uri": "https://localhost:8080/"
        },
        "id": "V4L0s6sqS2vq",
        "outputId": "3b737321-f6ea-43f9-f48f-2173885356f2"
      },
      "source": [
        "word_list_s = vec_s.get_feature_names();    \n",
        "count_list_s = X_s.toarray().sum(axis=0) \n",
        "freq_s = dict(zip(word_list_s,count_list_s))\n",
        "word_list_s\n",
        "freq_s"
      ],
      "execution_count": null,
      "outputs": [
        {
          "output_type": "execute_result",
          "data": {
            "text/plain": [
              "{'awesome': 1,\n",
              " 'bad': 1,\n",
              " 'good': 3,\n",
              " 'great': 1,\n",
              " 'like': 2,\n",
              " 'love': 3,\n",
              " 'touching': 1}"
            ]
          },
          "metadata": {
            "tags": []
          },
          "execution_count": 25
        }
      ]
    },
    {
      "cell_type": "code",
      "metadata": {
        "colab": {
          "base_uri": "https://localhost:8080/"
        },
        "id": "UXkqKO-3S6Xj",
        "outputId": "8b119af7-e6b0-48ac-e7f9-241f396bb7c9"
      },
      "source": [
        "word_list_q = vec_q.get_feature_names();    \n",
        "count_list_q = X_q.toarray().sum(axis=0) \n",
        "freq_q = dict(zip(word_list_q,count_list_q))\n",
        "freq_q"
      ],
      "execution_count": null,
      "outputs": [
        {
          "output_type": "execute_result",
          "data": {
            "text/plain": [
              "{'bad': 4, 'boring': 2, 'hate': 1, 'like': 1, 'sleep': 1, 'worse': 1}"
            ]
          },
          "metadata": {
            "tags": []
          },
          "execution_count": 26
        }
      ]
    },
    {
      "cell_type": "code",
      "metadata": {
        "colab": {
          "base_uri": "https://localhost:8080/"
        },
        "id": "XGFGqDbJS9ZS",
        "outputId": "6b2b8062-1820-4a52-d64f-aa6cd44a3a72"
      },
      "source": [
        "prob_s=[]\n",
        "for word,count in zip(word_list_s,count_list_s):\n",
        "    prob_s.append(count/len(word_list_s))\n",
        "dict(zip(word_list_s,prob_s))"
      ],
      "execution_count": null,
      "outputs": [
        {
          "output_type": "execute_result",
          "data": {
            "text/plain": [
              "{'awesome': 0.14285714285714285,\n",
              " 'bad': 0.14285714285714285,\n",
              " 'good': 0.42857142857142855,\n",
              " 'great': 0.14285714285714285,\n",
              " 'like': 0.2857142857142857,\n",
              " 'love': 0.42857142857142855,\n",
              " 'touching': 0.14285714285714285}"
            ]
          },
          "metadata": {
            "tags": []
          },
          "execution_count": 27
        }
      ]
    },
    {
      "cell_type": "code",
      "metadata": {
        "colab": {
          "base_uri": "https://localhost:8080/"
        },
        "id": "ppUwTEPgTA8_",
        "outputId": "65064131-cb86-4b0e-a6b2-cb3f8b5d9273"
      },
      "source": [
        "prob_q=[]\n",
        "for word,count in zip(word_list_q,count_list_q):\n",
        "    prob_q.append(count/len(word_list_q))\n",
        "dict(zip(word_list_q,prob_q))"
      ],
      "execution_count": null,
      "outputs": [
        {
          "output_type": "execute_result",
          "data": {
            "text/plain": [
              "{'bad': 0.6666666666666666,\n",
              " 'boring': 0.3333333333333333,\n",
              " 'hate': 0.16666666666666666,\n",
              " 'like': 0.16666666666666666,\n",
              " 'sleep': 0.16666666666666666,\n",
              " 'worse': 0.16666666666666666}"
            ]
          },
          "metadata": {
            "tags": []
          },
          "execution_count": 29
        }
      ]
    },
    {
      "cell_type": "code",
      "metadata": {
        "colab": {
          "base_uri": "https://localhost:8080/"
        },
        "id": "rYcoDIZFTD_7",
        "outputId": "8526d32e-556c-430c-ffd5-27df496a4bce"
      },
      "source": [
        "from sklearn.feature_extraction.text import CountVectorizer\n",
        "\n",
        "docs = [row['Kalimat'] for index,row in training_data.iterrows()]\n",
        "print (docs)\n",
        "vec = CountVectorizer()\n",
        "X = vec.fit_transform(docs)\n",
        "\n",
        "total_features = len(vec.get_feature_names())\n",
        "total_features"
      ],
      "execution_count": null,
      "outputs": [
        {
          "output_type": "stream",
          "text": [
            "['love great', 'awesome touching bad', 'love', 'like good', 'good love', 'good like', 'bad sleep', 'boring like', 'bad hate', 'boring', 'bad worse bad']\n"
          ],
          "name": "stdout"
        },
        {
          "output_type": "execute_result",
          "data": {
            "text/plain": [
              "11"
            ]
          },
          "metadata": {
            "tags": []
          },
          "execution_count": 30
        }
      ]
    },
    {
      "cell_type": "code",
      "metadata": {
        "colab": {
          "base_uri": "https://localhost:8080/"
        },
        "id": "Std9idPvTIm5",
        "outputId": "0105c791-a522-4fb1-928c-e755c944bf34"
      },
      "source": [
        "total_cnts_features_s = count_list_s.sum(axis=0)\n",
        "total_cnts_features_q = count_list_q.sum(axis=0)\n",
        "print (total_cnts_features_q)\n",
        "print (total_cnts_features_s)"
      ],
      "execution_count": null,
      "outputs": [
        {
          "output_type": "stream",
          "text": [
            "10\n",
            "12\n"
          ],
          "name": "stdout"
        }
      ]
    },
    {
      "cell_type": "code",
      "metadata": {
        "colab": {
          "base_uri": "https://localhost:8080/"
        },
        "id": "pKzGOT0CTMYd",
        "outputId": "c22fc842-d56d-48ab-bc54-2003ef2eb297"
      },
      "source": [
        "'''\n",
        "NLTK adalah salah satu tool yang sangat populer pada ilmu Natural Language Processing (NLP) \n",
        "dengan menggunakan bahasa pemrograman Python. Natural Language Toolkit ini sangat mendukung \n",
        "proses pengolahan bahasa natural \n",
        "seperti classification, tokenization, stemming, tagging, parsing\n",
        "'''\n",
        "import nltk\n",
        "nltk.download('punkt')\n",
        "\n",
        "from nltk.tokenize import word_tokenize\n",
        "new_sentence = 'bad like like hate tedious'\n",
        "new_word_list = word_tokenize(new_sentence)\n",
        "print(new_word_list)"
      ],
      "execution_count": null,
      "outputs": [
        {
          "output_type": "stream",
          "text": [
            "[nltk_data] Downloading package punkt to /root/nltk_data...\n",
            "[nltk_data]   Package punkt is already up-to-date!\n",
            "['bad', 'like', 'like', 'hate', 'tedious']\n"
          ],
          "name": "stdout"
        }
      ]
    },
    {
      "cell_type": "code",
      "metadata": {
        "colab": {
          "base_uri": "https://localhost:8080/"
        },
        "id": "cDd8kHrwTWAC",
        "outputId": "3c2ef5b8-8720-4299-e32f-1107a3a772bb"
      },
      "source": [
        "from nltk.tokenize import word_tokenize\n",
        "new_sentence = 'bad like like hate tedious'\n",
        "new_word_list = word_tokenize(new_sentence)\n",
        "print(new_word_list)"
      ],
      "execution_count": null,
      "outputs": [
        {
          "output_type": "stream",
          "text": [
            "['bad', 'like', 'like', 'hate', 'tedious']\n"
          ],
          "name": "stdout"
        }
      ]
    },
    {
      "cell_type": "code",
      "metadata": {
        "colab": {
          "base_uri": "https://localhost:8080/"
        },
        "id": "JnWIRtj6TqwZ",
        "outputId": "3fe115fe-4431-4cc1-e7d5-fa897d699bbc"
      },
      "source": [
        "prob_s_with_ls = []\n",
        "for word in new_word_list:\n",
        "    if word in freq_s.keys():\n",
        "        count = freq_s[word]\n",
        "    else:\n",
        "        count = 0\n",
        "    prob_s_with_ls.append((count + 1)/(total_cnts_features_s + total_features))\n",
        "dict(zip(new_word_list,prob_s_with_ls))"
      ],
      "execution_count": null,
      "outputs": [
        {
          "output_type": "execute_result",
          "data": {
            "text/plain": [
              "{'bad': 0.08695652173913043,\n",
              " 'hate': 0.043478260869565216,\n",
              " 'like': 0.13043478260869565,\n",
              " 'tedious': 0.043478260869565216}"
            ]
          },
          "metadata": {
            "tags": []
          },
          "execution_count": 37
        }
      ]
    },
    {
      "cell_type": "code",
      "metadata": {
        "colab": {
          "base_uri": "https://localhost:8080/"
        },
        "id": "J26VTmWuTusn",
        "outputId": "1e8a7bee-62ac-4ce5-d7df-79ef73188589"
      },
      "source": [
        "i=0\n",
        "prob_s_=1\n",
        "for i in range(len(prob_s_with_ls)):\n",
        "    prob_s_=prob_s_*prob_s_with_ls[i]\n",
        "print (prob_s_)\n",
        "print (\"Nilai akhir positif \",prob_s_*(6/11))"
      ],
      "execution_count": null,
      "outputs": [
        {
          "output_type": "stream",
          "text": [
            "2.796619136052879e-06\n",
            "Nilai akhir positif  1.5254286196652065e-06\n"
          ],
          "name": "stdout"
        }
      ]
    },
    {
      "cell_type": "code",
      "metadata": {
        "colab": {
          "base_uri": "https://localhost:8080/"
        },
        "id": "VqrtFcpuUayZ",
        "outputId": "f082ca59-bcd2-45a1-e20b-5d284e5e1e0d"
      },
      "source": [
        "prob_q_with_ls = []\n",
        "for word in new_word_list:\n",
        "    if word in freq_q.keys():\n",
        "        count = freq_q[word]\n",
        "    else:\n",
        "        count = 0\n",
        "    prob_q_with_ls.append((count + 1)/(total_cnts_features_q + total_features))\n",
        "dict(zip(new_word_list,prob_q_with_ls))"
      ],
      "execution_count": null,
      "outputs": [
        {
          "output_type": "execute_result",
          "data": {
            "text/plain": [
              "{'bad': 0.23809523809523808,\n",
              " 'hate': 0.09523809523809523,\n",
              " 'like': 0.09523809523809523,\n",
              " 'tedious': 0.047619047619047616}"
            ]
          },
          "metadata": {
            "tags": []
          },
          "execution_count": 38
        }
      ]
    },
    {
      "cell_type": "code",
      "metadata": {
        "colab": {
          "base_uri": "https://localhost:8080/"
        },
        "id": "NLSR0ScMUgaF",
        "outputId": "4ea29f60-9758-4015-de0c-582fb5ef1638"
      },
      "source": [
        "i=0\n",
        "prob_q_=1\n",
        "for i in range(len(prob_q_with_ls)):\n",
        "    prob_q_=prob_q_*prob_q_with_ls[i]\n",
        "print (prob_q_)\n",
        "print(\"Nilai akhir Negatif=\",prob_q_*(5/11))"
      ],
      "execution_count": null,
      "outputs": [
        {
          "output_type": "stream",
          "text": [
            "9.794077080855734e-06\n",
            "Nilai akhir Negatif= 4.451853218570788e-06\n"
          ],
          "name": "stdout"
        }
      ]
    },
    {
      "cell_type": "code",
      "metadata": {
        "colab": {
          "base_uri": "https://localhost:8080/"
        },
        "id": "X8KscxqAmhvL",
        "outputId": "6f3088cb-fa57-4c37-a222-2b547c02c202"
      },
      "source": [
        "#Kesimpulan :\n",
        "print (\"Nilai akhir positif \",prob_s_*(6/11))\n",
        "print(\"Nilai akhir Negatif=\",prob_q_*(5/11))\n",
        "#positif = 0,0000015254286.......\n",
        "#negatif = 0,0000044518532......(lebih besar dari positif mk kalimat tsb adalah \"negatif\")"
      ],
      "execution_count": null,
      "outputs": [
        {
          "output_type": "stream",
          "text": [
            "Nilai akhir positif  1.5254286196652065e-06\n",
            "Nilai akhir Negatif= 4.451853218570788e-06\n"
          ],
          "name": "stdout"
        }
      ]
    },
    {
      "cell_type": "code",
      "metadata": {
        "id": "gPz4QQMXQo55"
      },
      "source": [
        ""
      ],
      "execution_count": null,
      "outputs": []
    }
  ]
}